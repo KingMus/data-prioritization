{
 "cells": [
  {
   "cell_type": "code",
   "execution_count": 1,
   "metadata": {},
   "outputs": [],
   "source": [
    "import numpy as np # linear algebra\n",
    "import pandas as pd # data manipulation\n",
    "import sys"
   ]
  },
  {
   "cell_type": "markdown",
   "metadata": {},
   "source": [
    "### Hier werden n Datensets eingelesen, muss vorerst manuell angepasst werden"
   ]
  },
  {
   "cell_type": "code",
   "execution_count": 3,
   "metadata": {},
   "outputs": [
    {
     "data": {
      "text/html": [
       "<div>\n",
       "<style scoped>\n",
       "    .dataframe tbody tr th:only-of-type {\n",
       "        vertical-align: middle;\n",
       "    }\n",
       "\n",
       "    .dataframe tbody tr th {\n",
       "        vertical-align: top;\n",
       "    }\n",
       "\n",
       "    .dataframe thead th {\n",
       "        text-align: right;\n",
       "    }\n",
       "</style>\n",
       "<table border=\"1\" class=\"dataframe\">\n",
       "  <thead>\n",
       "    <tr style=\"text-align: right;\">\n",
       "      <th></th>\n",
       "      <th>Date</th>\n",
       "      <th>Open</th>\n",
       "      <th>High</th>\n",
       "      <th>Low</th>\n",
       "      <th>Close</th>\n",
       "      <th>Adj Close</th>\n",
       "      <th>Volume</th>\n",
       "    </tr>\n",
       "  </thead>\n",
       "  <tbody>\n",
       "    <tr>\n",
       "      <th>0</th>\n",
       "      <td>28/05/2013</td>\n",
       "      <td>8432.459961</td>\n",
       "      <td>8526.419922</td>\n",
       "      <td>8424.400391</td>\n",
       "      <td>8480.870117</td>\n",
       "      <td>8480.870117</td>\n",
       "      <td>97455000.0</td>\n",
       "    </tr>\n",
       "    <tr>\n",
       "      <th>1</th>\n",
       "      <td>29/05/2013</td>\n",
       "      <td>8437.209961</td>\n",
       "      <td>8445.459961</td>\n",
       "      <td>8316.700195</td>\n",
       "      <td>8336.580078</td>\n",
       "      <td>8336.580078</td>\n",
       "      <td>107502500.0</td>\n",
       "    </tr>\n",
       "    <tr>\n",
       "      <th>2</th>\n",
       "      <td>30/05/2013</td>\n",
       "      <td>8314.200195</td>\n",
       "      <td>8416.360352</td>\n",
       "      <td>8293.959961</td>\n",
       "      <td>8400.200195</td>\n",
       "      <td>8400.200195</td>\n",
       "      <td>103141400.0</td>\n",
       "    </tr>\n",
       "    <tr>\n",
       "      <th>3</th>\n",
       "      <td>31/05/2013</td>\n",
       "      <td>8385.379883</td>\n",
       "      <td>8401.629883</td>\n",
       "      <td>8297.030273</td>\n",
       "      <td>8348.839844</td>\n",
       "      <td>8348.839844</td>\n",
       "      <td>122400300.0</td>\n",
       "    </tr>\n",
       "    <tr>\n",
       "      <th>4</th>\n",
       "      <td>03/06/2013</td>\n",
       "      <td>8291.490234</td>\n",
       "      <td>8395.559570</td>\n",
       "      <td>8214.780273</td>\n",
       "      <td>8285.799805</td>\n",
       "      <td>8285.799805</td>\n",
       "      <td>97748300.0</td>\n",
       "    </tr>\n",
       "  </tbody>\n",
       "</table>\n",
       "</div>"
      ],
      "text/plain": [
       "         Date         Open         High          Low        Close  \\\n",
       "0  28/05/2013  8432.459961  8526.419922  8424.400391  8480.870117   \n",
       "1  29/05/2013  8437.209961  8445.459961  8316.700195  8336.580078   \n",
       "2  30/05/2013  8314.200195  8416.360352  8293.959961  8400.200195   \n",
       "3  31/05/2013  8385.379883  8401.629883  8297.030273  8348.839844   \n",
       "4  03/06/2013  8291.490234  8395.559570  8214.780273  8285.799805   \n",
       "\n",
       "     Adj Close       Volume  \n",
       "0  8480.870117   97455000.0  \n",
       "1  8336.580078  107502500.0  \n",
       "2  8400.200195  103141400.0  \n",
       "3  8348.839844  122400300.0  \n",
       "4  8285.799805   97748300.0  "
      ]
     },
     "execution_count": 3,
     "metadata": {},
     "output_type": "execute_result"
    }
   ],
   "source": [
    "#1 bis n Datensets einlesen\n",
    "dax1 = pd.read_csv('dax_data/dax.csv')\n",
    "dax2 = pd.read_csv('dax_data/GDAXI.csv')\n",
    "#check\n",
    "dax1.head()"
   ]
  },
  {
   "cell_type": "code",
   "execution_count": 4,
   "metadata": {},
   "outputs": [],
   "source": [
    "countDataSets = 2"
   ]
  },
  {
   "cell_type": "markdown",
   "metadata": {},
   "source": [
    "# Definition der Methoden"
   ]
  },
  {
   "cell_type": "markdown",
   "metadata": {},
   "source": [
    "### Quality"
   ]
  },
  {
   "cell_type": "code",
   "execution_count": 5,
   "metadata": {},
   "outputs": [],
   "source": [
    "#NullValues zählen\n",
    "def howManyNullValues( oneDataSet ):\n",
    "    return oneDataSet.isnull().sum().sum()"
   ]
  },
  {
   "cell_type": "code",
   "execution_count": 6,
   "metadata": {},
   "outputs": [],
   "source": [
    "#Werteanzahl bestimmen\n",
    "def howManyValues( oneDataSet ):\n",
    "    return oneDataSet.shape[0] * oneDataSet.shape[1]"
   ]
  },
  {
   "cell_type": "code",
   "execution_count": 7,
   "metadata": {},
   "outputs": [],
   "source": [
    "#Anteil von Nullvalues an Values bestimmen\n",
    "def calculateRatioNullValues( oneDataSet ):\n",
    "    return 100 - ((howManyNullValues( oneDataSet ) / howManyValues( oneDataSet )) * 100)"
   ]
  },
  {
   "cell_type": "code",
   "execution_count": 8,
   "metadata": {},
   "outputs": [],
   "source": [
    "#Größe des Datensets bestimmen (Methode 1)\n",
    "def getSizeMethodOne( oneDataSet ):\n",
    "    return oneDataSet.memory_usage(index=True).sum()/1000"
   ]
  },
  {
   "cell_type": "code",
   "execution_count": 9,
   "metadata": {},
   "outputs": [],
   "source": [
    "#Größe des Datensets bestimmen (Methode 2)\n",
    "def getSizeMethodTwo( oneDataSet ):\n",
    "    return sys.getsizeof(oneDataSet)/1000"
   ]
  },
  {
   "cell_type": "code",
   "execution_count": 10,
   "metadata": {},
   "outputs": [],
   "source": [
    "# bestimme für ein Datenset alle Qualitätsparameter\n",
    "def getQualityParameters( dataset, dsindex):\n",
    "    \n",
    "    data = [(dsindex, howManyValues(dataset),howManyNullValues(dataset),calculateRatioNullValues(dataset),getSizeMethodOne(dataset),getSizeMethodTwo(dataset))]\n",
    "    qualityParameterForDataSet = pd.DataFrame(data,columns=['dataset_id','sum_Values', 'sum_NullValues', 'ratio_NullValues', 'filesize_One', 'filesize_Two'])\n",
    "\n",
    "    return qualityParameterForDataSet"
   ]
  },
  {
   "cell_type": "code",
   "execution_count": 11,
   "metadata": {},
   "outputs": [],
   "source": [
    "def getQualityRanks(qualitydataframe):\n",
    "    \n",
    "    dataframe = qualitydataframe #the original one should be untouched\n",
    "    \n",
    "    dataframe['sum_Values'] = dataframe['sum_Values'].rank(ascending=False)\n",
    "    dataframe['sum_NullValues'] = dataframe['sum_NullValues'].rank(ascending=True)\n",
    "    dataframe['ratio_NullValues'] = dataframe['ratio_NullValues'].rank(ascending=False)\n",
    "    dataframe['filesize_One'] = dataframe['filesize_One'].rank(ascending=False)\n",
    "    dataframe['filesize_Two'] = dataframe['filesize_Two'].rank(ascending=False)\n",
    "    \n",
    "    return dataframe"
   ]
  },
  {
   "cell_type": "markdown",
   "metadata": {},
   "source": [
    "### Kosten"
   ]
  },
  {
   "cell_type": "code",
   "execution_count": 12,
   "metadata": {},
   "outputs": [],
   "source": [
    "#finde im von max nach min sortierten Kostenparameter-Datenset die Position des gegebenen Datensets (Rang)\n",
    "def getCostRank(index):\n",
    "    return costParameters.loc[costParameters['id'] == index].index.values.astype(int)[0]"
   ]
  },
  {
   "cell_type": "markdown",
   "metadata": {},
   "source": [
    "### Aufwand"
   ]
  },
  {
   "cell_type": "code",
   "execution_count": 13,
   "metadata": {},
   "outputs": [],
   "source": [
    "#Aufwand nach gesetzten Regeln bestimmen\n",
    "def getScoreDataPreparation( oneDataSet ):\n",
    "    scoreDataPreparation = 10\n",
    "\n",
    "    scoreEntries = calculateRatioNullValues(oneDataSet)\n",
    "    \n",
    "    if scoreEntries != 100:\n",
    "        scoreDataPreparation = scoreDataPreparation - 1\n",
    "    if scoreEntries < 85:\n",
    "        scoreDataPreparation = scoreDataPreparation - 1\n",
    "    if scoreEntries < 70:\n",
    "        scoreDataPreparation = scoreDataPreparation - 1\n",
    "    \n",
    "    #hier fehlt Zeugs, welches für den Anwendungsfall aber noch nicht relevant war\n",
    "    \n",
    "    # genauer: DateType - Bestimmung\n",
    "    # StringType-Bestimmung\n",
    "    \n",
    "    return scoreDataPreparation "
   ]
  },
  {
   "cell_type": "code",
   "execution_count": 14,
   "metadata": {},
   "outputs": [],
   "source": [
    "#bestimme die Werte der vier Kriterien\n",
    "def getScoreDataFrameForDataSet ( oneDataSet, datasetindex, importance, costRank, qualityRank ):\n",
    "    \n",
    "    dataScore = [(datasetindex, importance, costRank, qualityRank, getScoreDataPreparation(oneDataSet))]\n",
    "    scoresDataSet = pd.DataFrame(dataScore,columns=['dataset_id','importance_score','cost_score', 'quality_score', 'hassle_score'])\n",
    "    \n",
    "    return scoresDataSet"
   ]
  },
  {
   "cell_type": "markdown",
   "metadata": {},
   "source": [
    "# Programm"
   ]
  },
  {
   "cell_type": "code",
   "execution_count": 15,
   "metadata": {},
   "outputs": [
    {
     "data": {
      "text/html": [
       "<div>\n",
       "<style scoped>\n",
       "    .dataframe tbody tr th:only-of-type {\n",
       "        vertical-align: middle;\n",
       "    }\n",
       "\n",
       "    .dataframe tbody tr th {\n",
       "        vertical-align: top;\n",
       "    }\n",
       "\n",
       "    .dataframe thead th {\n",
       "        text-align: right;\n",
       "    }\n",
       "</style>\n",
       "<table border=\"1\" class=\"dataframe\">\n",
       "  <thead>\n",
       "    <tr style=\"text-align: right;\">\n",
       "      <th></th>\n",
       "      <th>dataset_id</th>\n",
       "      <th>sum_Values</th>\n",
       "      <th>sum_NullValues</th>\n",
       "      <th>ratio_NullValues</th>\n",
       "      <th>filesize_One</th>\n",
       "      <th>filesize_Two</th>\n",
       "    </tr>\n",
       "  </thead>\n",
       "  <tbody>\n",
       "    <tr>\n",
       "      <th>0</th>\n",
       "      <td>kaggle-dax</td>\n",
       "      <td>9128</td>\n",
       "      <td>246</td>\n",
       "      <td>97.304996</td>\n",
       "      <td>73.104</td>\n",
       "      <td>150.064</td>\n",
       "    </tr>\n",
       "    <tr>\n",
       "      <th>1</th>\n",
       "      <td>yahoo-dax</td>\n",
       "      <td>168</td>\n",
       "      <td>11</td>\n",
       "      <td>93.452381</td>\n",
       "      <td>1.424</td>\n",
       "      <td>2.864</td>\n",
       "    </tr>\n",
       "  </tbody>\n",
       "</table>\n",
       "</div>"
      ],
      "text/plain": [
       "   dataset_id  sum_Values  sum_NullValues  ratio_NullValues  filesize_One  \\\n",
       "0  kaggle-dax        9128             246         97.304996        73.104   \n",
       "1   yahoo-dax         168              11         93.452381         1.424   \n",
       "\n",
       "   filesize_Two  \n",
       "0       150.064  \n",
       "1         2.864  "
      ]
     },
     "execution_count": 15,
     "metadata": {},
     "output_type": "execute_result"
    }
   ],
   "source": [
    "#Qualitätsparameter für jedes Datenset erhalten\n",
    "qualityParameters = pd.DataFrame()\n",
    "\n",
    "qualityParameters = getQualityParameters(dax1, \"kaggle-dax\")\n",
    "qualityParameters = qualityParameters.append(getQualityParameters(dax2,\"yahoo-dax\"))\n",
    "\n",
    "qualityParameters = qualityParameters.reset_index(drop = True)\n",
    "\n",
    "qualityParameters.head()"
   ]
  },
  {
   "cell_type": "code",
   "execution_count": 16,
   "metadata": {},
   "outputs": [
    {
     "data": {
      "text/html": [
       "<div>\n",
       "<style scoped>\n",
       "    .dataframe tbody tr th:only-of-type {\n",
       "        vertical-align: middle;\n",
       "    }\n",
       "\n",
       "    .dataframe tbody tr th {\n",
       "        vertical-align: top;\n",
       "    }\n",
       "\n",
       "    .dataframe thead th {\n",
       "        text-align: right;\n",
       "    }\n",
       "</style>\n",
       "<table border=\"1\" class=\"dataframe\">\n",
       "  <thead>\n",
       "    <tr style=\"text-align: right;\">\n",
       "      <th></th>\n",
       "      <th>dataset_id</th>\n",
       "      <th>sum_Values</th>\n",
       "      <th>sum_NullValues</th>\n",
       "      <th>ratio_NullValues</th>\n",
       "      <th>filesize_One</th>\n",
       "      <th>filesize_Two</th>\n",
       "      <th>sumranks</th>\n",
       "      <th>quality_score</th>\n",
       "    </tr>\n",
       "  </thead>\n",
       "  <tbody>\n",
       "    <tr>\n",
       "      <th>0</th>\n",
       "      <td>kaggle-dax</td>\n",
       "      <td>1.0</td>\n",
       "      <td>2.0</td>\n",
       "      <td>1.0</td>\n",
       "      <td>1.0</td>\n",
       "      <td>1.0</td>\n",
       "      <td>6.0</td>\n",
       "      <td>2.0</td>\n",
       "    </tr>\n",
       "    <tr>\n",
       "      <th>1</th>\n",
       "      <td>yahoo-dax</td>\n",
       "      <td>2.0</td>\n",
       "      <td>1.0</td>\n",
       "      <td>2.0</td>\n",
       "      <td>2.0</td>\n",
       "      <td>2.0</td>\n",
       "      <td>9.0</td>\n",
       "      <td>1.0</td>\n",
       "    </tr>\n",
       "  </tbody>\n",
       "</table>\n",
       "</div>"
      ],
      "text/plain": [
       "   dataset_id  sum_Values  sum_NullValues  ratio_NullValues  filesize_One  \\\n",
       "0  kaggle-dax         1.0             2.0               1.0           1.0   \n",
       "1   yahoo-dax         2.0             1.0               2.0           2.0   \n",
       "\n",
       "   filesize_Two  sumranks  quality_score  \n",
       "0           1.0       6.0            2.0  \n",
       "1           2.0       9.0            1.0  "
      ]
     },
     "execution_count": 16,
     "metadata": {},
     "output_type": "execute_result"
    }
   ],
   "source": [
    "#nutze QUalitätsparameter zur Bestimmung eines Gesamtrangs\n",
    "\n",
    "qualityParameters = getQualityRanks(qualityParameters)\n",
    "\n",
    "#qualityParameters[\"sumranks\"] = qualityParameters.sum(axis=1)\n",
    "qualityParameters[\"sumranks\"] = qualityParameters.apply(lambda row: row['sum_Values' : 'filesize_Two'].sum(),axis=1)\n",
    "qualityParameters['quality_score'] = qualityParameters['sumranks'].rank(ascending=False)\n",
    "\n",
    "qualityParameters.head()"
   ]
  },
  {
   "cell_type": "code",
   "execution_count": 17,
   "metadata": {},
   "outputs": [
    {
     "data": {
      "text/html": [
       "<div>\n",
       "<style scoped>\n",
       "    .dataframe tbody tr th:only-of-type {\n",
       "        vertical-align: middle;\n",
       "    }\n",
       "\n",
       "    .dataframe tbody tr th {\n",
       "        vertical-align: top;\n",
       "    }\n",
       "\n",
       "    .dataframe thead th {\n",
       "        text-align: right;\n",
       "    }\n",
       "</style>\n",
       "<table border=\"1\" class=\"dataframe\">\n",
       "  <thead>\n",
       "    <tr style=\"text-align: right;\">\n",
       "      <th></th>\n",
       "      <th>dataset_id</th>\n",
       "      <th>costs</th>\n",
       "      <th>cost_score</th>\n",
       "    </tr>\n",
       "  </thead>\n",
       "  <tbody>\n",
       "    <tr>\n",
       "      <th>0</th>\n",
       "      <td>kaggle-dax</td>\n",
       "      <td>0</td>\n",
       "      <td>1.5</td>\n",
       "    </tr>\n",
       "    <tr>\n",
       "      <th>1</th>\n",
       "      <td>yahoo-dax</td>\n",
       "      <td>0</td>\n",
       "      <td>1.5</td>\n",
       "    </tr>\n",
       "  </tbody>\n",
       "</table>\n",
       "</div>"
      ],
      "text/plain": [
       "   dataset_id  costs  cost_score\n",
       "0  kaggle-dax      0         1.5\n",
       "1   yahoo-dax      0         1.5"
      ]
     },
     "execution_count": 17,
     "metadata": {},
     "output_type": "execute_result"
    }
   ],
   "source": [
    "costdata = [(\"kaggle-dax\",0),(\"yahoo-dax\",0)]\n",
    "costParameters = pd.DataFrame(costdata,columns=['dataset_id','costs'])\n",
    "\n",
    "costParameters['cost_score'] = costParameters['costs'].rank(ascending=False)\n",
    "\n",
    "costParameters.head()"
   ]
  },
  {
   "cell_type": "code",
   "execution_count": 18,
   "metadata": {},
   "outputs": [
    {
     "data": {
      "text/html": [
       "<div>\n",
       "<style scoped>\n",
       "    .dataframe tbody tr th:only-of-type {\n",
       "        vertical-align: middle;\n",
       "    }\n",
       "\n",
       "    .dataframe tbody tr th {\n",
       "        vertical-align: top;\n",
       "    }\n",
       "\n",
       "    .dataframe thead th {\n",
       "        text-align: right;\n",
       "    }\n",
       "</style>\n",
       "<table border=\"1\" class=\"dataframe\">\n",
       "  <thead>\n",
       "    <tr style=\"text-align: right;\">\n",
       "      <th></th>\n",
       "      <th>dataset_id</th>\n",
       "      <th>importance_score</th>\n",
       "      <th>cost_score</th>\n",
       "      <th>quality_score</th>\n",
       "      <th>hassle_score</th>\n",
       "    </tr>\n",
       "  </thead>\n",
       "  <tbody>\n",
       "    <tr>\n",
       "      <th>0</th>\n",
       "      <td>kaggle-dax</td>\n",
       "      <td>5</td>\n",
       "      <td>1.5</td>\n",
       "      <td>2.0</td>\n",
       "      <td>9</td>\n",
       "    </tr>\n",
       "    <tr>\n",
       "      <th>0</th>\n",
       "      <td>yahoo-dax</td>\n",
       "      <td>5</td>\n",
       "      <td>1.5</td>\n",
       "      <td>1.0</td>\n",
       "      <td>9</td>\n",
       "    </tr>\n",
       "  </tbody>\n",
       "</table>\n",
       "</div>"
      ],
      "text/plain": [
       "   dataset_id  importance_score  cost_score  quality_score  hassle_score\n",
       "0  kaggle-dax                 5         1.5            2.0             9\n",
       "0   yahoo-dax                 5         1.5            1.0             9"
      ]
     },
     "execution_count": 18,
     "metadata": {},
     "output_type": "execute_result"
    }
   ],
   "source": [
    "scoreDataSet = getScoreDataFrameForDataSet(dax1, \"kaggle-dax\", 5, (costParameters.loc[costParameters['dataset_id'] == \"kaggle-dax\", 'cost_score']).item(), (qualityParameters.loc[qualityParameters['dataset_id'] == \"kaggle-dax\", 'quality_score']).item())\n",
    "scoreDataSet = scoreDataSet.append(getScoreDataFrameForDataSet(dax2, \"yahoo-dax\", 5, (costParameters.loc[costParameters['dataset_id'] == \"yahoo-dax\", 'cost_score']).item(), (qualityParameters.loc[qualityParameters['dataset_id'] == \"yahoo-dax\", 'quality_score']).item()))\n",
    "scoreDataSet.head()"
   ]
  },
  {
   "cell_type": "code",
   "execution_count": 19,
   "metadata": {},
   "outputs": [
    {
     "data": {
      "text/html": [
       "<div>\n",
       "<style scoped>\n",
       "    .dataframe tbody tr th:only-of-type {\n",
       "        vertical-align: middle;\n",
       "    }\n",
       "\n",
       "    .dataframe tbody tr th {\n",
       "        vertical-align: top;\n",
       "    }\n",
       "\n",
       "    .dataframe thead th {\n",
       "        text-align: right;\n",
       "    }\n",
       "</style>\n",
       "<table border=\"1\" class=\"dataframe\">\n",
       "  <thead>\n",
       "    <tr style=\"text-align: right;\">\n",
       "      <th></th>\n",
       "      <th>dataset_id</th>\n",
       "      <th>importance_score</th>\n",
       "      <th>cost_score</th>\n",
       "      <th>quality_score</th>\n",
       "      <th>hassle_score</th>\n",
       "      <th>score</th>\n",
       "      <th>score_rank</th>\n",
       "    </tr>\n",
       "  </thead>\n",
       "  <tbody>\n",
       "    <tr>\n",
       "      <th>0</th>\n",
       "      <td>kaggle-dax</td>\n",
       "      <td>2.0</td>\n",
       "      <td>1.5</td>\n",
       "      <td>2.0</td>\n",
       "      <td>1.8</td>\n",
       "      <td>7.3</td>\n",
       "      <td>1.0</td>\n",
       "    </tr>\n",
       "    <tr>\n",
       "      <th>0</th>\n",
       "      <td>yahoo-dax</td>\n",
       "      <td>2.0</td>\n",
       "      <td>1.5</td>\n",
       "      <td>1.0</td>\n",
       "      <td>1.8</td>\n",
       "      <td>6.3</td>\n",
       "      <td>2.0</td>\n",
       "    </tr>\n",
       "  </tbody>\n",
       "</table>\n",
       "</div>"
      ],
      "text/plain": [
       "   dataset_id  importance_score  cost_score  quality_score  hassle_score  \\\n",
       "0  kaggle-dax               2.0         1.5            2.0           1.8   \n",
       "0   yahoo-dax               2.0         1.5            1.0           1.8   \n",
       "\n",
       "   score  score_rank  \n",
       "0    7.3         1.0  \n",
       "0    6.3         2.0  "
      ]
     },
     "execution_count": 19,
     "metadata": {},
     "output_type": "execute_result"
    }
   ],
   "source": [
    "scoreDataSet[\"importance_score\"] = (scoreDataSet[\"importance_score\"]*(countDataSets/5))\n",
    "scoreDataSet[\"hassle_score\"] = (scoreDataSet[\"hassle_score\"]*(countDataSets/10))\n",
    "\n",
    "scoreDataSet[\"score\"] = scoreDataSet[\"importance_score\"] + scoreDataSet[\"hassle_score\"] + scoreDataSet[\"quality_score\"] + scoreDataSet[\"cost_score\"]\n",
    "scoreDataSet[\"score_rank\"] = scoreDataSet['score'].rank(ascending=False)\n",
    "\n",
    "scoreDataSet.head()"
   ]
  },
  {
   "cell_type": "code",
   "execution_count": 20,
   "metadata": {},
   "outputs": [
    {
     "name": "stdout",
     "output_type": "stream",
     "text": [
      "Das empfohlene Datenset ist das Datenset mit der ID:  kaggle-dax\n"
     ]
    }
   ],
   "source": [
    "print(\"Das empfohlene Datenset ist das Datenset mit der ID: \", (scoreDataSet.loc[scoreDataSet['score_rank'] == 1, 'dataset_id']).item())"
   ]
  },
  {
   "cell_type": "code",
   "execution_count": null,
   "metadata": {},
   "outputs": [],
   "source": []
  }
 ],
 "metadata": {
  "kernelspec": {
   "display_name": "Python 3",
   "language": "python",
   "name": "python3"
  },
  "language_info": {
   "codemirror_mode": {
    "name": "ipython",
    "version": 3
   },
   "file_extension": ".py",
   "mimetype": "text/x-python",
   "name": "python",
   "nbconvert_exporter": "python",
   "pygments_lexer": "ipython3",
   "version": "3.6.4"
  }
 },
 "nbformat": 4,
 "nbformat_minor": 2
}
